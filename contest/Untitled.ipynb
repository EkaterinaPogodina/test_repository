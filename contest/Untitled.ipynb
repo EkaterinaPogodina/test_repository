{
 "cells": [
  {
   "cell_type": "code",
   "execution_count": 11,
   "metadata": {
    "collapsed": true
   },
   "outputs": [],
   "source": [
    "import pandas as pd\n",
    "import numpy as np"
   ]
  },
  {
   "cell_type": "code",
   "execution_count": 8,
   "metadata": {
    "collapsed": true
   },
   "outputs": [],
   "source": [
    "test = pd.read_csv('./preprocessing2_test.csv', sep=';', parse_dates=True, dayfirst=True, decimal = ',')"
   ]
  },
  {
   "cell_type": "code",
   "execution_count": 9,
   "metadata": {
    "collapsed": true
   },
   "outputs": [],
   "source": [
    "regions = test['living_region']"
   ]
  },
  {
   "cell_type": "code",
   "execution_count": 12,
   "metadata": {
    "collapsed": false
   },
   "outputs": [],
   "source": [
    "regions = np.asarray(regions)"
   ]
  },
  {
   "cell_type": "code",
   "execution_count": 16,
   "metadata": {
    "collapsed": false
   },
   "outputs": [],
   "source": [
    "from collections import Counter"
   ]
  },
  {
   "cell_type": "code",
   "execution_count": 17,
   "metadata": {
    "collapsed": true
   },
   "outputs": [],
   "source": [
    "counter = Counter(regions)"
   ]
  },
  {
   "cell_type": "code",
   "execution_count": 30,
   "metadata": {
    "collapsed": false
   },
   "outputs": [],
   "source": [
    "counter.values()"
   ]
  },
  {
   "cell_type": "code",
   "execution_count": 31,
   "metadata": {
    "collapsed": false
   },
   "outputs": [
    {
     "name": "stdout",
     "output_type": "stream",
     "text": [
      "[116, 758, 502, 320, 308, 4247, 8, 4392, 1027, 1150, 36, 381, 282, 146, 174, 318, 35, 2411, 1348, 474, 90, 2029, 1, 690, 649, 5, 897, 2428, 1332, 24, 118, 903, 3903, 35, 341, 670, 341, 4894, 15, 6840, 21, 3, 150, 380, 25, 1, 939, 1256, 708, 361, 220, 1, 1545, 477, 389, 509, 24, 49, 795, 19, 1225, 456, 1690, 439, 23, 2786, 595, 1248, 4527, 580, 576, 348, 2859, 268, 1, 2437, 748, 82, 420, 3, 360, 283, 1862, 476, 2427, 382, 769, 564, 316, 3328, 1, 1527, 1849, 921, 836, 683, 703, 7, 423, 402]\n"
     ]
    }
   ],
   "source": []
  },
  {
   "cell_type": "code",
   "execution_count": 51,
   "metadata": {
    "collapsed": false
   },
   "outputs": [
    {
     "name": "stdout",
     "output_type": "stream",
     "text": [
      "МОСКОВСКАЯ\n",
      "МОСКВА\n",
      "КРАСНОДАРСКИЙ\n",
      "САНКТ-ПЕТЕРБУРГ\n",
      "ТАТАРСТАН\n",
      "СВЕРДЛОВСКАЯ\n",
      "БАШКОРТОСТАН\n",
      "САМАРСКАЯ\n",
      "ЧЕЛЯБИНСКАЯ\n",
      "ИРКУТСКАЯ\n",
      "ХАНТЫ-МАНСИЙСКИЙ\n",
      "СТАВРОПОЛЬСКИЙ\n",
      "РОСТОВСКАЯ\n",
      "НИЖЕГОРОДСКАЯ\n",
      "ЛЕНИНГРАДСКАЯ\n",
      "ПЕРМСКИЙ\n",
      "КРАСНОЯРСКИЙ\n",
      "АСТРАХАНСКАЯ\n",
      "КЕМЕРОВСКАЯ\n",
      "ВОЛОГОДСКАЯ\n"
     ]
    }
   ],
   "source": [
    "for i in range(20):\n",
    "    print counter.most_common()[i][0]"
   ]
  },
  {
   "cell_type": "code",
   "execution_count": 52,
   "metadata": {
    "collapsed": false
   },
   "outputs": [
    {
     "name": "stdout",
     "output_type": "stream",
     "text": [
      "ТЮМЕНСКАЯ\n",
      "САХА\n",
      "ВОЛГОГРАДСКАЯ\n",
      "САРАТОВСКАЯ\n",
      "НОВОСИБИРСКАЯ\n",
      "ЯМАЛО-НЕНЕЦКИЙ\n",
      "КОМИ\n",
      "АРХАНГЕЛЬСКАЯ\n",
      "ВОРОНЕЖСКАЯ\n",
      "БУРЯТИЯ\n",
      "ТВЕРСКАЯ\n",
      "ХАБАРОВСКИЙ\n",
      "МУРМАНСКАЯ\n",
      "ТУЛЬСКАЯ\n",
      "ВЛАДИМИРСКАЯ\n",
      "КУРГАНСКАЯ\n",
      "КУРСКАЯ\n",
      "ПРИМОРСКИЙ\n",
      "ОРЕНБУРГСКАЯ\n",
      "КАЛУЖСКАЯ\n"
     ]
    }
   ],
   "source": [
    "for i in range(20, 40):\n",
    "    print counter.most_common()[i][0]"
   ]
  },
  {
   "cell_type": "code",
   "execution_count": 53,
   "metadata": {
    "collapsed": false
   },
   "outputs": [
    {
     "name": "stdout",
     "output_type": "stream",
     "text": [
      "ЗАБАЙКАЛЬСКИЙ\n",
      "УДМУРТСКАЯ\n",
      "ТАМБОВСКАЯ\n",
      "УЛЬЯНОВСКАЯ\n",
      "ПЕНЗЕНСКАЯ\n",
      "СМОЛЕНСКАЯ\n",
      "ЯРОСЛАВСКАЯ\n",
      "ОМСКАЯ\n",
      "ЛИПЕЦКАЯ\n",
      "АМУРСКАЯ\n",
      "ОРЛОВСКАЯ\n",
      "ИВАНОВСКАЯ\n",
      "БРЯНСКАЯ\n",
      "НОВГОРОДСКАЯ\n",
      "КАЛИНИНГРАДСКАЯ\n",
      "МАРИЙ ЭЛ\n",
      "КИРОВСКАЯ\n",
      "КАРЕЛИЯ\n",
      "МОРДОВИЯ\n",
      "РЯЗАНСКАЯ\n"
     ]
    }
   ],
   "source": [
    "for i in range(40, 60):\n",
    "    print counter.most_common()[i][0]"
   ]
  },
  {
   "cell_type": "code",
   "execution_count": 55,
   "metadata": {
    "collapsed": false
   },
   "outputs": [
    {
     "name": "stdout",
     "output_type": "stream",
     "text": [
      "ДАГЕСТАН\n",
      "ЧУВАШСКАЯЧУВАШИЯ\n",
      "ЧУВАШИЯ ЧУВАШСКАЯ -\n",
      "ЧЕЧЕНСКАЯ\n",
      "АЛТАЙ\n",
      "ЧУКОТСКИЙ\n",
      "ЧИТИНСКАЯ\n",
      "Г САНКТ-ПЕТЕРБУРГ\n",
      "СЕВ ОСЕТИЯАЛАНИЯ\n",
      "ПЕРМСКАЯ\n",
      "ГОРЬКОВСКАЯ\n",
      "ИНГУШЕТИЯ\n",
      "ЕВРЕЙСКАЯ АВТОНОМНАЯ\n",
      "ЧУКОТСКИЙ АO\n",
      "КАМЧАТСКАЯ\n",
      "ХАНТЫ-МАНСИЙСКИЙ-\n",
      "Г ЧЕЛЯБИНСК\n",
      "КАМЧАТС??ИЙ\n",
      "БЛ ЕВРЕЙСКАЯ\n",
      "МОСКОВСКИЙ П\n"
     ]
    }
   ],
   "source": [
    "for i in range(80, 100):\n",
    "    print counter.most_common()[i][0]"
   ]
  },
  {
   "cell_type": "code",
   "execution_count": 60,
   "metadata": {
    "collapsed": false
   },
   "outputs": [
    {
     "name": "stdout",
     "output_type": "stream",
     "text": [
      "МОСКОВСКИЙ П\n"
     ]
    }
   ],
   "source": [
    "print counter.most_common()[99][0]"
   ]
  },
  {
   "cell_type": "code",
   "execution_count": 61,
   "metadata": {
    "collapsed": true
   },
   "outputs": [],
   "source": [
    "data =test['living_region']"
   ]
  },
  {
   "cell_type": "code",
   "execution_count": 62,
   "metadata": {
    "collapsed": true
   },
   "outputs": [],
   "source": [
    "size = data.shape[0]"
   ]
  },
  {
   "cell_type": "code",
   "execution_count": 65,
   "metadata": {
    "collapsed": true
   },
   "outputs": [],
   "source": [
    "living_region = test['living_region'].isnull()\n",
    "test_ids = []\n",
    "for i in range(size):\n",
    "    if living_region[i]:\n",
    "        test_ids.append(i)"
   ]
  },
  {
   "cell_type": "code",
   "execution_count": 71,
   "metadata": {
    "collapsed": false
   },
   "outputs": [
    {
     "name": "stderr",
     "output_type": "stream",
     "text": [
      "/root/miniconda/envs/rep_py2/lib/python2.7/site-packages/ipykernel/__main__.py:3: SettingWithCopyWarning: \n",
      "A value is trying to be set on a copy of a slice from a DataFrame\n",
      "\n",
      "See the caveats in the documentation: http://pandas.pydata.org/pandas-docs/stable/indexing.html#indexing-view-versus-copy\n",
      "  app.launch_new_instance()\n"
     ]
    }
   ],
   "source": [
    "for i in range(size):\n",
    "    if i not in test_ids  and test['living_region'][i].replace('МОСКОВСКИЙ', '') != test['living_region'][i]:\n",
    "        test['living_region'][i] = 'МОСКОВСКАЯ'\n",
    "        break\n",
    "\n",
    "for i in range(size):\n",
    "    if i not in test_ids  and test['living_region'][i].replace('ЧУВАШИЯ', '') != test['living_region'][i]:\n",
    "        test['living_region'][i] = 'ЧУВАШИЯ'\n",
    "        \n",
    "for i in range(size):\n",
    "    if i not in test_ids  and test['living_region'][i].replace('ОСЕТИЯ', '') != test['living_region'][i]:\n",
    "        test['living_region'][i] = 'СЕВЕРНАЯ ОСЕТИЯ'\n",
    "\n",
    "for i in range(size):\n",
    "    if i not in test_ids  and test['living_region'][i].replace('ЕВРЕЙСКАЯ', '') != test['living_region'][i]:\n",
    "        test['living_region'][i] = 'ЕВРЕЙСКАЯ'\n",
    "\n",
    "for i in range(size):\n",
    "    if i not in test_ids  and test['living_region'][i].replace('Г ', '') != test['living_region'][i]:\n",
    "        test['living_region'][i] = test['living_region'][i].replace('Г ', '')\n",
    "\n",
    "for i in range(size):\n",
    "    if i not in test_ids  and test['living_region'][i].replace('ЧУКОТСКИЙ', '') != test['living_region'][i]:\n",
    "        test['living_region'][i] = 'ЧУКОТСКИЙ'\n",
    "\n",
    "for i in range(size):\n",
    "    if i not in test_ids  and test['living_region'][i].replace('КАМЧАТС', '') != test['living_region'][i]:\n",
    "        test['living_region'][i] = 'КАМЧАТСКИЙ'\n",
    "        \n",
    "for i in range(size):\n",
    "    if i not in test_ids  and test['living_region'][i].replace('АЛТАЙ', '') != test['living_region'][i]:\n",
    "        test['living_region'][i] = 'АЛТАЙСКИЙ'\n",
    "        \n",
    "for i in range(size):\n",
    "    if i not in test_ids  and test['living_region'][i].replace('ЧЕЛЯБИНСК', '') != test['living_region'][i]:\n",
    "        test['living_region'][i] = 'ЧЕЛЯБИНСКАЯ'\n",
    "        \n",
    "for i in range(size):\n",
    "    if i not in test_ids  and test['living_region'][i].replace('ХАНТЫ', '') != test['living_region'][i]:\n",
    "        test['living_region'][i] = 'ХАНТЫ-МАНСИЙСКИЙ'\n",
    "        \n",
    "for i in range(size):\n",
    "    if i not in test_ids  and test['living_region'][i].replace('ЧУВАШСКАЯ', '') != test['living_region'][i]:\n",
    "        test['living_region'][i] = 'ЧУВАШИЯ'"
   ]
  },
  {
   "cell_type": "code",
   "execution_count": 240,
   "metadata": {
    "collapsed": true
   },
   "outputs": [],
   "source": [
    "counter = Counter(np.asarray(test['living_region']))"
   ]
  },
  {
   "cell_type": "code",
   "execution_count": 241,
   "metadata": {
    "collapsed": true
   },
   "outputs": [],
   "source": [
    "test_regions = []"
   ]
  },
  {
   "cell_type": "code",
   "execution_count": 242,
   "metadata": {
    "collapsed": false
   },
   "outputs": [
    {
     "name": "stdout",
     "output_type": "stream",
     "text": [
      "МОСКОВСКАЯ\n",
      "МОСКВА\n",
      "КРАСНОДАРСКИЙ\n",
      "САНКТ-ПЕТЕРБУРГ\n",
      "ТАТАРСТАН\n",
      "СВЕРДЛОВСКАЯ\n",
      "БАШКОРТОСТАН\n",
      "САМАРСКАЯ\n",
      "ЧЕЛЯБИНСКАЯ\n",
      "ИРКУТСКАЯ\n",
      "ХАНТЫ-МАНСИЙСКИЙ\n",
      "СТАВРОПОЛЬСКИЙ\n",
      "РОСТОВСКАЯ\n",
      "НИЖЕГОРОДСКАЯ\n",
      "ЛЕНИНГРАДСКАЯ\n",
      "ПЕРМСКИЙ\n",
      "КРАСНОЯРСКИЙ\n",
      "АСТРАХАНСКАЯ\n",
      "КЕМЕРОВСКАЯ\n",
      "ВОЛОГОДСКАЯ\n",
      "ТЮМЕНСКАЯ\n",
      "САХА\n",
      "ВОЛГОГРАДСКАЯ\n",
      "САРАТОВСКАЯ\n",
      "НОВОСИБИРСКАЯ\n",
      "ЯМАЛО-НЕНЕЦКИЙ\n",
      "КОМИ\n",
      "АРХАНГЕЛЬСКАЯ\n",
      "ВОРОНЕЖСКАЯ\n",
      "БУРЯТИЯ\n",
      "ТВЕРСКАЯ\n",
      "ХАБАРОВСКИЙ\n",
      "МУРМАНСКАЯ\n",
      "ТУЛЬСКАЯ\n",
      "ВЛАДИМИРСКАЯ\n",
      "КУРГАНСКАЯ\n",
      "КУРСКАЯ\n",
      "ПРИМОРСКИЙ\n",
      "ОРЕНБУРГСКАЯ\n",
      "КАЛУЖСКАЯ\n",
      "ЗАБАЙКАЛЬСКИЙ\n",
      "УДМУРТСКАЯ\n",
      "ТАМБОВСКАЯ\n",
      "УЛЬЯНОВСКАЯ\n",
      "ПЕНЗЕНСКАЯ\n",
      "СМОЛЕНСКАЯ\n",
      "ЧУВАШИЯ\n",
      "ЯРОСЛАВСКАЯ\n",
      "ОМСКАЯ\n",
      "ЛИПЕЦКАЯ\n",
      "АМУРСКАЯ\n",
      "ОРЛОВСКАЯ\n",
      "ИВАНОВСКАЯ\n",
      "БРЯНСКАЯ\n",
      "НОВГОРОДСКАЯ\n",
      "КАЛИНИНГРАДСКАЯ\n",
      "МАРИЙ ЭЛ\n",
      "КИРОВСКАЯ\n",
      "КАРЕЛИЯ\n",
      "МОРДОВИЯ\n",
      "АЛТАЙСКИЙ\n",
      "РЯЗАНСКАЯ\n",
      "БЕЛГОРОДСКАЯ\n",
      "КАБАРДИНО-БАЛКАРСКАЯ\n",
      "КАРАЧАЕВО-ЧЕРКЕССКАЯ\n",
      "ТОМСКАЯ\n",
      "АДЫГЕЯ\n",
      "ПСКОВСКАЯ\n",
      "ТЫВА\n",
      "ХАКАСИЯ\n",
      "КОСТРОМСКАЯ\n",
      "КАМЧАТСКИЙ\n",
      "СЕВЕРНАЯ ОСЕТИЯ\n",
      "КАЛМЫКИЯ\n",
      "ЕВРЕЙСКАЯ\n",
      "nan\n",
      "НЕНЕЦКИЙ\n",
      "МАГАДАНСКАЯ\n",
      "ДАГЕСТАН\n",
      "ЧУКОТСКИЙ\n",
      "ЧЕЧЕНСКАЯ\n",
      "ЧИТИНСКАЯ\n",
      "ПЕРМСКАЯ\n",
      "ГОРЬКОВСКАЯ\n",
      "ИНГУШЕТИЯ\n"
     ]
    },
    {
     "ename": "IndexError",
     "evalue": "list index out of range",
     "output_type": "error",
     "traceback": [
      "\u001b[1;31m---------------------------------------------------------------------------\u001b[0m",
      "\u001b[1;31mIndexError\u001b[0m                                Traceback (most recent call last)",
      "\u001b[1;32m<ipython-input-242-0e83e35aaf5d>\u001b[0m in \u001b[0;36m<module>\u001b[1;34m()\u001b[0m\n\u001b[0;32m      1\u001b[0m \u001b[1;32mfor\u001b[0m \u001b[0mi\u001b[0m \u001b[1;32min\u001b[0m \u001b[0mrange\u001b[0m\u001b[1;33m(\u001b[0m\u001b[1;36m89\u001b[0m\u001b[1;33m)\u001b[0m\u001b[1;33m:\u001b[0m\u001b[1;33m\u001b[0m\u001b[0m\n\u001b[1;32m----> 2\u001b[1;33m     \u001b[1;32mprint\u001b[0m \u001b[0mcounter\u001b[0m\u001b[1;33m.\u001b[0m\u001b[0mmost_common\u001b[0m\u001b[1;33m(\u001b[0m\u001b[1;33m)\u001b[0m\u001b[1;33m[\u001b[0m\u001b[0mi\u001b[0m\u001b[1;33m]\u001b[0m\u001b[1;33m[\u001b[0m\u001b[1;36m0\u001b[0m\u001b[1;33m]\u001b[0m\u001b[1;33m\u001b[0m\u001b[0m\n\u001b[0m",
      "\u001b[1;31mIndexError\u001b[0m: list index out of range"
     ]
    }
   ],
   "source": [
    "for i in range(89):\n",
    "    print counter.most_common()[i][0]"
   ]
  },
  {
   "cell_type": "code",
   "execution_count": 110,
   "metadata": {
    "collapsed": true
   },
   "outputs": [],
   "source": [
    "Categorical_columns = ['gender', 'marital_status', 'job_position',  'education', 'living_region']\n",
    "Numerical_columns = test.columns.drop(Categorical_columns)"
   ]
  },
  {
   "cell_type": "code",
   "execution_count": 118,
   "metadata": {
    "collapsed": true
   },
   "outputs": [],
   "source": [
    "new_test = pd.read_csv('./preprocessing3_test.csv', sep=';', parse_dates=True, dayfirst=True, decimal = '.')"
   ]
  },
  {
   "cell_type": "code",
   "execution_count": 119,
   "metadata": {
    "collapsed": true
   },
   "outputs": [],
   "source": [
    "cat_test = new_test.drop(Numerical_columns, axis = 1)\n",
    "num_test = new_test.drop(Categorical_columns + ['client_id', 'tariff_id'], axis = 1)"
   ]
  },
  {
   "cell_type": "code",
   "execution_count": 123,
   "metadata": {
    "collapsed": false
   },
   "outputs": [],
   "source": [
    "num_test['tariff_id'] = test['tariff_id']"
   ]
  },
  {
   "cell_type": "code",
   "execution_count": 124,
   "metadata": {
    "collapsed": false
   },
   "outputs": [
    {
     "name": "stdout",
     "output_type": "stream",
     "text": [
      "Количество NaN:\n"
     ]
    },
    {
     "data": {
      "text/plain": [
       "age                        0\n",
       "credit_sum                 0\n",
       "credit_month               0\n",
       "score_shk                  0\n",
       "monthly_income             0\n",
       "credit_count            4703\n",
       "overdue_credit_count    4703\n",
       "tariff_id                  0\n",
       "dtype: int64"
      ]
     },
     "execution_count": 124,
     "metadata": {},
     "output_type": "execute_result"
    }
   ],
   "source": [
    "# Количество NaN в числовых признаках\n",
    "print('Количество NaN:')\n",
    "nan_val = num_test.isnull().sum().T\n",
    "nan_val"
   ]
  },
  {
   "cell_type": "code",
   "execution_count": 125,
   "metadata": {
    "collapsed": false
   },
   "outputs": [],
   "source": [
    "def fillNan(data, feature):\n",
    "    data[[feature]] = data[[feature]].fillna(0)\n",
    "    return data"
   ]
  },
  {
   "cell_type": "code",
   "execution_count": 126,
   "metadata": {
    "collapsed": true
   },
   "outputs": [],
   "source": [
    "num_test = fillNan(num_test, 'credit_count')\n",
    "num_test = fillNan(num_test, 'overdue_credit_count')"
   ]
  },
  {
   "cell_type": "code",
   "execution_count": 134,
   "metadata": {
    "collapsed": true
   },
   "outputs": [],
   "source": [
    "living_region = cat_test['living_region'].isnull()\n",
    "ids = []\n",
    "for i in range(size):\n",
    "    if living_region[i]:\n",
    "        ids.append(i)"
   ]
  },
  {
   "cell_type": "code",
   "execution_count": 136,
   "metadata": {
    "collapsed": false
   },
   "outputs": [
    {
     "name": "stdout",
     "output_type": "stream",
     "text": [
      "Количество NaN:\n"
     ]
    },
    {
     "data": {
      "text/plain": [
       "gender            0\n",
       "marital_status    0\n",
       "job_position      0\n",
       "education         0\n",
       "living_region     0\n",
       "dtype: int64"
      ]
     },
     "execution_count": 136,
     "metadata": {},
     "output_type": "execute_result"
    }
   ],
   "source": [
    "# Количество NaN в числовых признаках\n",
    "print('Количество NaN:')\n",
    "nan_val = cat_test.isnull().sum().T\n",
    "nan_val"
   ]
  },
  {
   "cell_type": "code",
   "execution_count": 135,
   "metadata": {
    "collapsed": false
   },
   "outputs": [],
   "source": [
    "for j in ids:\n",
    "    regions = []\n",
    "    position = cat_test['job_position'][j]\n",
    "    salary = num_test['monthly_income'][j]\n",
    "    age = num_test['age'][j]\n",
    "    for i in range(size):\n",
    "        f = (salary <= num_test['monthly_income'][i] + 50000 and salary >= num_test['monthly_income'][i] - 50000)\n",
    "        if f and (i not in ids) and cat_test['job_position'][i] == position and age >= num_test['age'][i] - 10 and age <= num_test['age'][i] + 10:\n",
    "            regions.append(cat_test['living_region'][i])\n",
    "    if len(regions) > 0:\n",
    "        counter = Counter(regions)\n",
    "        cat_test['living_region'][j] = counter.most_common(1)[0][0]"
   ]
  },
  {
   "cell_type": "code",
   "execution_count": 140,
   "metadata": {
    "collapsed": true
   },
   "outputs": [],
   "source": [
    "def get_binarized_data(df, categorical_columns):\n",
    "    binary_df = deepcopy(df)\n",
    "    for column in categorical_columns:\n",
    "        binary_df = pd.concat([binary_df, pd.get_dummies(binary_df[column], prefix=column, prefix_sep=': ')], axis=1)\n",
    "        del binary_df[column]\n",
    "    \n",
    "    return binary_df"
   ]
  },
  {
   "cell_type": "code",
   "execution_count": 139,
   "metadata": {
    "collapsed": true
   },
   "outputs": [],
   "source": [
    "from copy import deepcopy"
   ]
  },
  {
   "cell_type": "code",
   "execution_count": 141,
   "metadata": {
    "collapsed": false
   },
   "outputs": [],
   "source": [
    "bin_test = get_binarized_data(cat_test, cat_test.columns)\n",
    "\n",
    "for column in num_test.columns:\n",
    "    bin_test[column] = num_test[column]"
   ]
  },
  {
   "cell_type": "code",
   "execution_count": 147,
   "metadata": {
    "collapsed": false
   },
   "outputs": [],
   "source": [
    "c=  Counter(np.asarray(test['living_region']))"
   ]
  },
  {
   "cell_type": "code",
   "execution_count": 159,
   "metadata": {
    "collapsed": false
   },
   "outputs": [
    {
     "name": "stdout",
     "output_type": "stream",
     "text": [
      "ИНГУШЕТИЯ\n"
     ]
    }
   ],
   "source": [
    "print c.most_common(91)[84][0]"
   ]
  },
  {
   "cell_type": "code",
   "execution_count": 142,
   "metadata": {
    "collapsed": true
   },
   "outputs": [],
   "source": [
    "bin_test.to_csv('./bin_test.csv', sep = ';', index = False, encoding= 'utf8')"
   ]
  },
  {
   "cell_type": "code",
   "execution_count": 160,
   "metadata": {
    "collapsed": true
   },
   "outputs": [],
   "source": [
    "train =  pd.read_csv('./preprocessing2_train.csv', sep=';', parse_dates=True, dayfirst=True)"
   ]
  },
  {
   "cell_type": "code",
   "execution_count": 225,
   "metadata": {
    "collapsed": false
   },
   "outputs": [],
   "source": [
    "size = train['living_region'].shape[0]\n",
    "counter = Counter(np.asarray(train['living_region']))"
   ]
  },
  {
   "cell_type": "code",
   "execution_count": 226,
   "metadata": {
    "collapsed": true
   },
   "outputs": [],
   "source": [
    "train_regions = []"
   ]
  },
  {
   "cell_type": "code",
   "execution_count": 227,
   "metadata": {
    "collapsed": false,
    "scrolled": true
   },
   "outputs": [
    {
     "ename": "IndexError",
     "evalue": "list index out of range",
     "output_type": "error",
     "traceback": [
      "\u001b[1;31m---------------------------------------------------------------------------\u001b[0m",
      "\u001b[1;31mIndexError\u001b[0m                                Traceback (most recent call last)",
      "\u001b[1;32m<ipython-input-227-60a25f22a15e>\u001b[0m in \u001b[0;36m<module>\u001b[1;34m()\u001b[0m\n\u001b[0;32m      1\u001b[0m \u001b[1;32mfor\u001b[0m \u001b[0mi\u001b[0m \u001b[1;32min\u001b[0m \u001b[0mrange\u001b[0m\u001b[1;33m(\u001b[0m\u001b[1;36m150\u001b[0m\u001b[1;33m)\u001b[0m\u001b[1;33m:\u001b[0m\u001b[1;33m\u001b[0m\u001b[0m\n\u001b[1;32m----> 2\u001b[1;33m     \u001b[0mtrain_regions\u001b[0m\u001b[1;33m.\u001b[0m\u001b[0mappend\u001b[0m\u001b[1;33m(\u001b[0m\u001b[0mcounter\u001b[0m\u001b[1;33m.\u001b[0m\u001b[0mmost_common\u001b[0m\u001b[1;33m(\u001b[0m\u001b[1;33m)\u001b[0m\u001b[1;33m[\u001b[0m\u001b[0mi\u001b[0m\u001b[1;33m]\u001b[0m\u001b[1;33m[\u001b[0m\u001b[1;36m0\u001b[0m\u001b[1;33m]\u001b[0m\u001b[1;33m)\u001b[0m\u001b[1;33m\u001b[0m\u001b[0m\n\u001b[0m",
      "\u001b[1;31mIndexError\u001b[0m: list index out of range"
     ]
    }
   ],
   "source": [
    "for i in range(150):\n",
    "    train_regions.append(counter.most_common()[i][0])"
   ]
  },
  {
   "cell_type": "code",
   "execution_count": 164,
   "metadata": {
    "collapsed": true
   },
   "outputs": [],
   "source": [
    "living_region = train['living_region'].isnull()\n",
    "train_ids = []\n",
    "for i in range(size):\n",
    "    if living_region[i]:\n",
    "        train_ids.append(i)"
   ]
  },
  {
   "cell_type": "code",
   "execution_count": 165,
   "metadata": {
    "collapsed": false
   },
   "outputs": [
    {
     "name": "stderr",
     "output_type": "stream",
     "text": [
      "/root/miniconda/envs/rep_py2/lib/python2.7/site-packages/ipykernel/__main__.py:3: SettingWithCopyWarning: \n",
      "A value is trying to be set on a copy of a slice from a DataFrame\n",
      "\n",
      "See the caveats in the documentation: http://pandas.pydata.org/pandas-docs/stable/indexing.html#indexing-view-versus-copy\n",
      "  app.launch_new_instance()\n",
      "/root/miniconda/envs/rep_py2/lib/python2.7/site-packages/ipykernel/__main__.py:7: SettingWithCopyWarning: \n",
      "A value is trying to be set on a copy of a slice from a DataFrame\n",
      "\n",
      "See the caveats in the documentation: http://pandas.pydata.org/pandas-docs/stable/indexing.html#indexing-view-versus-copy\n"
     ]
    }
   ],
   "source": [
    "for i in range(size):\n",
    "    if i not in train_ids  and train['living_region'][i].replace('ЧУВАШИЯ', '') != train['living_region'][i]:\n",
    "        train['living_region'][i] = 'ЧУВАШИЯ'\n",
    "        \n",
    "for i in range(size):\n",
    "    if i not in train_ids  and train['living_region'][i].replace('ОСЕТИЯ', '') != train['living_region'][i]:\n",
    "        train['living_region'][i] = 'СЕВЕРНАЯ ОСЕТИЯ'"
   ]
  },
  {
   "cell_type": "code",
   "execution_count": 166,
   "metadata": {
    "collapsed": false
   },
   "outputs": [
    {
     "name": "stderr",
     "output_type": "stream",
     "text": [
      "/root/miniconda/envs/rep_py2/lib/python2.7/site-packages/ipykernel/__main__.py:3: SettingWithCopyWarning: \n",
      "A value is trying to be set on a copy of a slice from a DataFrame\n",
      "\n",
      "See the caveats in the documentation: http://pandas.pydata.org/pandas-docs/stable/indexing.html#indexing-view-versus-copy\n",
      "  app.launch_new_instance()\n",
      "/root/miniconda/envs/rep_py2/lib/python2.7/site-packages/ipykernel/__main__.py:7: SettingWithCopyWarning: \n",
      "A value is trying to be set on a copy of a slice from a DataFrame\n",
      "\n",
      "See the caveats in the documentation: http://pandas.pydata.org/pandas-docs/stable/indexing.html#indexing-view-versus-copy\n"
     ]
    }
   ],
   "source": [
    "for i in range(size):\n",
    "    if i not in train_ids  and train['living_region'][i].replace('ЕВРЕЙСКАЯ', '') != train['living_region'][i]:\n",
    "        train['living_region'][i] = 'ЕВРЕЙСКАЯ'\n",
    "\n",
    "for i in range(size):\n",
    "    if i not in train_ids  and train['living_region'][i].replace('ЧУВАШСКАЯ', '') != train['living_region'][i]:\n",
    "        train['living_region'][i] = 'ЧУВАШИЯ'"
   ]
  },
  {
   "cell_type": "code",
   "execution_count": 169,
   "metadata": {
    "collapsed": false
   },
   "outputs": [
    {
     "name": "stderr",
     "output_type": "stream",
     "text": [
      "/root/miniconda/envs/rep_py2/lib/python2.7/site-packages/ipykernel/__main__.py:3: SettingWithCopyWarning: \n",
      "A value is trying to be set on a copy of a slice from a DataFrame\n",
      "\n",
      "See the caveats in the documentation: http://pandas.pydata.org/pandas-docs/stable/indexing.html#indexing-view-versus-copy\n",
      "  app.launch_new_instance()\n"
     ]
    }
   ],
   "source": [
    "for i in range(size):\n",
    "    if i not in train_ids  and train['living_region'][i].replace('МОСКВА', '') != train['living_region'][i]:\n",
    "        train['living_region'][i] = 'МОСКВА'"
   ]
  },
  {
   "cell_type": "code",
   "execution_count": 174,
   "metadata": {
    "collapsed": false
   },
   "outputs": [],
   "source": [
    "for i in range(size):\n",
    "    if i not in train_ids  and train['living_region'][i].replace('Г ', '') != train['living_region'][i]:\n",
    "        train['living_region'][i] = train['living_region'][i].replace('Г ', '')"
   ]
  },
  {
   "cell_type": "code",
   "execution_count": 171,
   "metadata": {
    "collapsed": false
   },
   "outputs": [
    {
     "name": "stderr",
     "output_type": "stream",
     "text": [
      "/root/miniconda/envs/rep_py2/lib/python2.7/site-packages/ipykernel/__main__.py:3: SettingWithCopyWarning: \n",
      "A value is trying to be set on a copy of a slice from a DataFrame\n",
      "\n",
      "See the caveats in the documentation: http://pandas.pydata.org/pandas-docs/stable/indexing.html#indexing-view-versus-copy\n",
      "  app.launch_new_instance()\n"
     ]
    }
   ],
   "source": [
    "for i in range(size):\n",
    "    if i not in train_ids  and train['living_region'][i].replace('ЭВЕНК', '') != train['living_region'][i]:\n",
    "        train['living_region'][i] = 'КРАСНОЯРСКИЙ'\n",
    "        break"
   ]
  },
  {
   "cell_type": "code",
   "execution_count": 172,
   "metadata": {
    "collapsed": false
   },
   "outputs": [
    {
     "name": "stderr",
     "output_type": "stream",
     "text": [
      "/root/miniconda/envs/rep_py2/lib/python2.7/site-packages/ipykernel/__main__.py:3: SettingWithCopyWarning: \n",
      "A value is trying to be set on a copy of a slice from a DataFrame\n",
      "\n",
      "See the caveats in the documentation: http://pandas.pydata.org/pandas-docs/stable/indexing.html#indexing-view-versus-copy\n",
      "  app.launch_new_instance()\n"
     ]
    }
   ],
   "source": [
    "for i in range(size):\n",
    "    if i not in train_ids  and train['living_region'][i].replace('МОСКВОСКАЯ', '') != train['living_region'][i]:\n",
    "        train['living_region'][i] = 'МОСКОВСКАЯ'\n",
    "        break"
   ]
  },
  {
   "cell_type": "code",
   "execution_count": 177,
   "metadata": {
    "collapsed": false
   },
   "outputs": [
    {
     "name": "stderr",
     "output_type": "stream",
     "text": [
      "/root/miniconda/envs/rep_py2/lib/python2.7/site-packages/ipykernel/__main__.py:3: SettingWithCopyWarning: \n",
      "A value is trying to be set on a copy of a slice from a DataFrame\n",
      "\n",
      "See the caveats in the documentation: http://pandas.pydata.org/pandas-docs/stable/indexing.html#indexing-view-versus-copy\n",
      "  app.launch_new_instance()\n"
     ]
    }
   ],
   "source": [
    "for i in range(size):\n",
    "    if i not in train_ids  and train['living_region'][i].replace('КАМЧАТСК', '') != train['living_region'][i]:\n",
    "        train['living_region'][i] = 'КАМЧАТСКИЙ'"
   ]
  },
  {
   "cell_type": "code",
   "execution_count": 178,
   "metadata": {
    "collapsed": false
   },
   "outputs": [
    {
     "name": "stderr",
     "output_type": "stream",
     "text": [
      "/root/miniconda/envs/rep_py2/lib/python2.7/site-packages/ipykernel/__main__.py:3: SettingWithCopyWarning: \n",
      "A value is trying to be set on a copy of a slice from a DataFrame\n",
      "\n",
      "See the caveats in the documentation: http://pandas.pydata.org/pandas-docs/stable/indexing.html#indexing-view-versus-copy\n",
      "  app.launch_new_instance()\n"
     ]
    }
   ],
   "source": [
    "for i in range(size):\n",
    "    if i not in train_ids  and train['living_region'][i].replace('МЫТИЩИНСКИЙ', '') != train['living_region'][i]:\n",
    "        train['living_region'][i] = 'МОСКОВСКАЯ'\n",
    "        break"
   ]
  },
  {
   "cell_type": "code",
   "execution_count": 179,
   "metadata": {
    "collapsed": false
   },
   "outputs": [
    {
     "name": "stderr",
     "output_type": "stream",
     "text": [
      "/root/miniconda/envs/rep_py2/lib/python2.7/site-packages/ipykernel/__main__.py:3: SettingWithCopyWarning: \n",
      "A value is trying to be set on a copy of a slice from a DataFrame\n",
      "\n",
      "See the caveats in the documentation: http://pandas.pydata.org/pandas-docs/stable/indexing.html#indexing-view-versus-copy\n",
      "  app.launch_new_instance()\n"
     ]
    }
   ],
   "source": [
    "for i in range(size):\n",
    "    if i not in train_ids  and train['living_region'][i].replace('ГОДИНЦОВО', '') != train['living_region'][i]:\n",
    "        train['living_region'][i] = 'МОСКОВСКАЯ'\n",
    "        break"
   ]
  },
  {
   "cell_type": "code",
   "execution_count": 182,
   "metadata": {
    "collapsed": false
   },
   "outputs": [
    {
     "name": "stderr",
     "output_type": "stream",
     "text": [
      "/root/miniconda/envs/rep_py2/lib/python2.7/site-packages/ipykernel/__main__.py:3: SettingWithCopyWarning: \n",
      "A value is trying to be set on a copy of a slice from a DataFrame\n",
      "\n",
      "See the caveats in the documentation: http://pandas.pydata.org/pandas-docs/stable/indexing.html#indexing-view-versus-copy\n",
      "  app.launch_new_instance()\n"
     ]
    }
   ],
   "source": [
    "for i in range(size):\n",
    "    if i not in train_ids  and train['living_region'][i].replace('ГУСЬ', '') != train['living_region'][i]:\n",
    "        train['living_region'][i] = 'ВЛАДИМИРСКАЯ'\n",
    "        break"
   ]
  },
  {
   "cell_type": "code",
   "execution_count": 188,
   "metadata": {
    "collapsed": false
   },
   "outputs": [
    {
     "name": "stderr",
     "output_type": "stream",
     "text": [
      "/root/miniconda/envs/rep_py2/lib/python2.7/site-packages/ipykernel/__main__.py:3: SettingWithCopyWarning: \n",
      "A value is trying to be set on a copy of a slice from a DataFrame\n",
      "\n",
      "See the caveats in the documentation: http://pandas.pydata.org/pandas-docs/stable/indexing.html#indexing-view-versus-copy\n",
      "  app.launch_new_instance()\n"
     ]
    }
   ],
   "source": [
    "for i in range(size):\n",
    "    if i not in train_ids  and train['living_region'][i].replace('АЛТАЙ', '') != train['living_region'][i]:\n",
    "        train['living_region'][i] = 'АЛТАЙСКИЙ'"
   ]
  },
  {
   "cell_type": "code",
   "execution_count": 243,
   "metadata": {
    "collapsed": true
   },
   "outputs": [],
   "source": [
    "train.to_csv('./preprocessing4.csv', sep = ';', index = False, encoding= 'utf8')"
   ]
  },
  {
   "cell_type": "code",
   "execution_count": 202,
   "metadata": {
    "collapsed": false
   },
   "outputs": [],
   "source": [
    "for i in range(size):\n",
    "    if i not in train_ids  and train['living_region'][i].replace('РОССИЯ', '') != train['living_region'][i]:\n",
    "        print i\n",
    "        break"
   ]
  },
  {
   "cell_type": "code",
   "execution_count": 239,
   "metadata": {
    "collapsed": false
   },
   "outputs": [
    {
     "name": "stderr",
     "output_type": "stream",
     "text": [
      "/root/miniconda/envs/rep_py2/lib/python2.7/site-packages/ipykernel/__main__.py:3: SettingWithCopyWarning: \n",
      "A value is trying to be set on a copy of a slice from a DataFrame\n",
      "\n",
      "See the caveats in the documentation: http://pandas.pydata.org/pandas-docs/stable/indexing.html#indexing-view-versus-copy\n",
      "  app.launch_new_instance()\n"
     ]
    }
   ],
   "source": [
    "for i in range(size):\n",
    "    if i not in train_ids  and train['living_region'][i].replace('ОРЁЛ', '') != train['living_region'][i]:\n",
    "        train['living_region'][i] = 'БРЯНСКАЯ'\n",
    "        break"
   ]
  },
  {
   "cell_type": "code",
   "execution_count": 205,
   "metadata": {
    "collapsed": true
   },
   "outputs": [],
   "source": [
    "privol = ['БАШКОРТОСТАН', 'КИРОВСКАЯ', 'МАРИЙ ЭЛ','МОРДОВИЯ', 'НИЖЕГОРОДСКАЯ', 'ОРЕНБУРГСКАЯ', 'ПЕНЗЕНСКАЯ','ПЕРМСКИЙ', 'САМАРСКАЯ','САРАТОВСКАЯ', 'ТАТАРСТАН', 'УДМУРТСКАЯ', 'УЛЬЯНОВСКАЯ', 'ЧУВАШИЯ']"
   ]
  },
  {
   "cell_type": "code",
   "execution_count": 209,
   "metadata": {
    "collapsed": true
   },
   "outputs": [],
   "source": [
    "far_east = ['АМУРСКАЯ', 'САХА', 'ХАБАРОВСКИЙ', 'ЕВРЕЙСКАЯ', 'ПРИМОРСКИЙ', 'МАГАДАНСКАЯ', 'КАМЧАТСКИЙ', 'ЧУКОТСКИЙ', 'САХАЛИНСКАЯ']\n",
    "\n"
   ]
  },
  {
   "cell_type": "code",
   "execution_count": 206,
   "metadata": {
    "collapsed": false
   },
   "outputs": [
    {
     "name": "stdout",
     "output_type": "stream",
     "text": [
      "['\\xd0\\x91\\xd0\\x90\\xd0\\xa8\\xd0\\x9a\\xd0\\x9e\\xd0\\xa0\\xd0\\xa2\\xd0\\x9e\\xd0\\xa1\\xd0\\xa2\\xd0\\x90\\xd0\\x9d', '\\xd0\\x9a\\xd0\\x98\\xd0\\xa0\\xd0\\x9e\\xd0\\x92\\xd0\\xa1\\xd0\\x9a\\xd0\\x90\\xd0\\xaf', '\\xd0\\x9c\\xd0\\x90\\xd0\\xa0\\xd0\\x98\\xd0\\x99 \\xd0\\xad\\xd0\\x9b', '\\xd0\\x9c\\xd0\\x9e\\xd0\\xa0\\xd0\\x94\\xd0\\x9e\\xd0\\x92\\xd0\\x98\\xd0\\xaf', '\\xd0\\x9d\\xd0\\x98\\xd0\\x96\\xd0\\x95\\xd0\\x93\\xd0\\x9e\\xd0\\xa0\\xd0\\x9e\\xd0\\x94\\xd0\\xa1\\xd0\\x9a\\xd0\\x90\\xd0\\xaf', '\\xd0\\x9e\\xd0\\xa0\\xd0\\x95\\xd0\\x9d\\xd0\\x91\\xd0\\xa3\\xd0\\xa0\\xd0\\x93\\xd0\\xa1\\xd0\\x9a\\xd0\\x90\\xd0\\xaf', '\\xd0\\x9f\\xd0\\x95\\xd0\\x9d\\xd0\\x97\\xd0\\x95\\xd0\\x9d\\xd0\\xa1\\xd0\\x9a\\xd0\\x90\\xd0\\xaf', '\\xd0\\x9f\\xd0\\x95\\xd0\\xa0\\xd0\\x9c\\xd0\\xa1\\xd0\\x9a\\xd0\\x98\\xd0\\x99', '\\xd0\\xa1\\xd0\\x90\\xd0\\x9c\\xd0\\x90\\xd0\\xa0\\xd0\\xa1\\xd0\\x9a\\xd0\\x90\\xd0\\xaf', '\\xd0\\xa1\\xd0\\x90\\xd0\\xa0\\xd0\\x90\\xd0\\xa2\\xd0\\x9e\\xd0\\x92\\xd0\\xa1\\xd0\\x9a\\xd0\\x90\\xd0\\xaf', '\\xd0\\xa2\\xd0\\x90\\xd0\\xa2\\xd0\\x90\\xd0\\xa0\\xd0\\xa1\\xd0\\xa2\\xd0\\x90\\xd0\\x9d', '\\xd0\\xa3\\xd0\\x94\\xd0\\x9c\\xd0\\xa3\\xd0\\xa0\\xd0\\xa2\\xd0\\xa1\\xd0\\x9a\\xd0\\x90\\xd0\\xaf', '\\xd0\\xa3\\xd0\\x9b\\xd0\\xac\\xd0\\xaf\\xd0\\x9d\\xd0\\x9e\\xd0\\x92\\xd0\\xa1\\xd0\\x9a\\xd0\\x90\\xd0\\xaf', '\\xd0\\xa7\\xd0\\xa3\\xd0\\x92\\xd0\\x90\\xd0\\xa8\\xd0\\x98\\xd0\\xaf']\n"
     ]
    }
   ],
   "source": [
    "print privol"
   ]
  },
  {
   "cell_type": "code",
   "execution_count": 211,
   "metadata": {
    "collapsed": false
   },
   "outputs": [
    {
     "name": "stderr",
     "output_type": "stream",
     "text": [
      "/root/miniconda/envs/rep_py2/lib/python2.7/site-packages/ipykernel/__main__.py:13: SettingWithCopyWarning: \n",
      "A value is trying to be set on a copy of a slice from a DataFrame\n",
      "\n",
      "See the caveats in the documentation: http://pandas.pydata.org/pandas-docs/stable/indexing.html#indexing-view-versus-copy\n"
     ]
    }
   ],
   "source": [
    "j = 106864\n",
    "regions = []\n",
    "position = train['job_position'][j]\n",
    "salary = train['monthly_income'][j]\n",
    "age = train['age'][j]\n",
    "for i in range(size):\n",
    "    if train['living_region'][i] in far_east:\n",
    "        f = (salary <= train['monthly_income'][i] + 20000 and salary >= train['monthly_income'][i] - 20000)\n",
    "        if f and (i not in train_ids) and train['job_position'][i] == position and age >= train['age'][i] - 10 and age <= train['age'][i] + 10:\n",
    "            regions.append(train['living_region'][i])\n",
    "if len(regions) > 0:\n",
    "    counter = Counter(regions)\n",
    "    train['living_region'][j] = counter.most_common(1)[0][0]"
   ]
  },
  {
   "cell_type": "code",
   "execution_count": 212,
   "metadata": {
    "collapsed": false
   },
   "outputs": [
    {
     "data": {
      "text/plain": [
       "106864    САХА\n",
       "Name: living_region, dtype: object"
      ]
     },
     "execution_count": 212,
     "metadata": {},
     "output_type": "execute_result"
    }
   ],
   "source": [
    "train['living_region'][106864:106865]"
   ]
  },
  {
   "cell_type": "code",
   "execution_count": 229,
   "metadata": {
    "collapsed": false
   },
   "outputs": [
    {
     "name": "stdout",
     "output_type": "stream",
     "text": [
      "БРЯНСКИЙ\n",
      "ОРЁЛ\n"
     ]
    }
   ],
   "source": [
    "for i in train_regions:\n",
    "    if i not in test_regions:\n",
    "        print i"
   ]
  },
  {
   "cell_type": "code",
   "execution_count": 231,
   "metadata": {
    "collapsed": true
   },
   "outputs": [],
   "source": [
    "for i in test_regions:\n",
    "    if i not in train_regions:\n",
    "        print i"
   ]
  },
  {
   "cell_type": "code",
   "execution_count": null,
   "metadata": {
    "collapsed": true
   },
   "outputs": [],
   "source": []
  }
 ],
 "metadata": {
  "kernelspec": {
   "display_name": "Python 2",
   "language": "python",
   "name": "python2"
  },
  "language_info": {
   "codemirror_mode": {
    "name": "ipython",
    "version": 2
   },
   "file_extension": ".py",
   "mimetype": "text/x-python",
   "name": "python",
   "nbconvert_exporter": "python",
   "pygments_lexer": "ipython2",
   "version": "2.7.6"
  }
 },
 "nbformat": 4,
 "nbformat_minor": 0
}
