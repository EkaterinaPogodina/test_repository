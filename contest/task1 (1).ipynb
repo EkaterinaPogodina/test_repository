{
 "cells": [
  {
   "cell_type": "code",
   "execution_count": 1,
   "metadata": {
    "collapsed": true
   },
   "outputs": [],
   "source": [
    "#!/usr/bin/env python\n",
    "# -*- coding: utf-8 -*-"
   ]
  },
  {
   "cell_type": "code",
   "execution_count": 3,
   "metadata": {
    "collapsed": false
   },
   "outputs": [],
   "source": [
    "import pandas as pd\n",
    "import numpy as np\n",
    "from collections import Counter\n",
    "from copy import deepcopy\n",
    "from sklearn import cross_validation"
   ]
  },
  {
   "cell_type": "code",
   "execution_count": null,
   "metadata": {
    "collapsed": true
   },
   "outputs": [],
   "source": [
    "import xgboost as xgb"
   ]
  },
  {
   "cell_type": "code",
   "execution_count": 4,
   "metadata": {
    "collapsed": true
   },
   "outputs": [],
   "source": [
    "from sklearn.ensemble import ExtraTreesRegressor\n",
    "from sklearn.ensemble import GradientBoostingRegressor\n",
    "from sklearn.metrics import roc_auc_score"
   ]
  },
  {
   "cell_type": "code",
   "execution_count": 3,
   "metadata": {
    "collapsed": false
   },
   "outputs": [],
   "source": [
    "data = pd.read_csv('./credit_train.csv', sep=';', parse_dates=True, dayfirst=True, encoding='cp1251', decimal = ',')"
   ]
  },
  {
   "cell_type": "code",
   "execution_count": 4,
   "metadata": {
    "collapsed": true
   },
   "outputs": [],
   "source": [
    "data2 = pd.read_csv('./credit_train.csv', sep=';', parse_dates=True, dayfirst=True, encoding='cp1251')"
   ]
  },
  {
   "cell_type": "code",
   "execution_count": 5,
   "metadata": {
    "collapsed": false
   },
   "outputs": [
    {
     "data": {
      "text/html": [
       "<div>\n",
       "<table border=\"1\" class=\"dataframe\">\n",
       "  <thead>\n",
       "    <tr style=\"text-align: right;\">\n",
       "      <th></th>\n",
       "      <th>client_id</th>\n",
       "      <th>gender</th>\n",
       "      <th>age</th>\n",
       "      <th>marital_status</th>\n",
       "      <th>job_position</th>\n",
       "      <th>credit_sum</th>\n",
       "      <th>credit_month</th>\n",
       "      <th>tariff_id</th>\n",
       "      <th>score_shk</th>\n",
       "      <th>education</th>\n",
       "      <th>living_region</th>\n",
       "      <th>monthly_income</th>\n",
       "      <th>credit_count</th>\n",
       "      <th>overdue_credit_count</th>\n",
       "      <th>open_account_flg</th>\n",
       "    </tr>\n",
       "  </thead>\n",
       "  <tbody>\n",
       "    <tr>\n",
       "      <th>0</th>\n",
       "      <td>1</td>\n",
       "      <td>M</td>\n",
       "      <td>48</td>\n",
       "      <td>MAR</td>\n",
       "      <td>UMN</td>\n",
       "      <td>59998.00</td>\n",
       "      <td>10</td>\n",
       "      <td>1.6</td>\n",
       "      <td>0.770249</td>\n",
       "      <td>GRD</td>\n",
       "      <td>КРАСНОДАРСКИЙ КРАЙ</td>\n",
       "      <td>30000</td>\n",
       "      <td>1</td>\n",
       "      <td>1</td>\n",
       "      <td>0</td>\n",
       "    </tr>\n",
       "    <tr>\n",
       "      <th>1</th>\n",
       "      <td>2</td>\n",
       "      <td>F</td>\n",
       "      <td>28</td>\n",
       "      <td>MAR</td>\n",
       "      <td>UMN</td>\n",
       "      <td>10889.00</td>\n",
       "      <td>6</td>\n",
       "      <td>1.1</td>\n",
       "      <td>0.248514</td>\n",
       "      <td>GRD</td>\n",
       "      <td>МОСКВА</td>\n",
       "      <td>43000</td>\n",
       "      <td>2</td>\n",
       "      <td>0</td>\n",
       "      <td>0</td>\n",
       "    </tr>\n",
       "    <tr>\n",
       "      <th>2</th>\n",
       "      <td>3</td>\n",
       "      <td>M</td>\n",
       "      <td>32</td>\n",
       "      <td>MAR</td>\n",
       "      <td>SPC</td>\n",
       "      <td>10728.00</td>\n",
       "      <td>12</td>\n",
       "      <td>1.1</td>\n",
       "      <td>0.459589</td>\n",
       "      <td>SCH</td>\n",
       "      <td>ОБЛ САРАТОВСКАЯ</td>\n",
       "      <td>23000</td>\n",
       "      <td>5</td>\n",
       "      <td>0</td>\n",
       "      <td>0</td>\n",
       "    </tr>\n",
       "    <tr>\n",
       "      <th>3</th>\n",
       "      <td>4</td>\n",
       "      <td>F</td>\n",
       "      <td>27</td>\n",
       "      <td>DIV</td>\n",
       "      <td>SPC</td>\n",
       "      <td>12009.09</td>\n",
       "      <td>12</td>\n",
       "      <td>1.1</td>\n",
       "      <td>0.362536</td>\n",
       "      <td>GRD</td>\n",
       "      <td>ОБЛ ВОЛГОГРАДСКАЯ</td>\n",
       "      <td>17000</td>\n",
       "      <td>2</td>\n",
       "      <td>0</td>\n",
       "      <td>0</td>\n",
       "    </tr>\n",
       "    <tr>\n",
       "      <th>4</th>\n",
       "      <td>5</td>\n",
       "      <td>M</td>\n",
       "      <td>45</td>\n",
       "      <td>MAR</td>\n",
       "      <td>SPC</td>\n",
       "      <td>16908.89</td>\n",
       "      <td>10</td>\n",
       "      <td>1.1</td>\n",
       "      <td>0.421385</td>\n",
       "      <td>SCH</td>\n",
       "      <td>ЧЕЛЯБИНСКАЯ ОБЛАСТЬ</td>\n",
       "      <td>25000</td>\n",
       "      <td>1</td>\n",
       "      <td>0</td>\n",
       "      <td>0</td>\n",
       "    </tr>\n",
       "  </tbody>\n",
       "</table>\n",
       "</div>"
      ],
      "text/plain": [
       "   client_id gender  age marital_status job_position  credit_sum  \\\n",
       "0          1      M   48            MAR          UMN    59998.00   \n",
       "1          2      F   28            MAR          UMN    10889.00   \n",
       "2          3      M   32            MAR          SPC    10728.00   \n",
       "3          4      F   27            DIV          SPC    12009.09   \n",
       "4          5      M   45            MAR          SPC    16908.89   \n",
       "\n",
       "   credit_month tariff_id  score_shk education        living_region  \\\n",
       "0            10       1.6   0.770249       GRD   КРАСНОДАРСКИЙ КРАЙ   \n",
       "1             6       1.1   0.248514       GRD               МОСКВА   \n",
       "2            12       1.1   0.459589       SCH      ОБЛ САРАТОВСКАЯ   \n",
       "3            12       1.1   0.362536       GRD    ОБЛ ВОЛГОГРАДСКАЯ   \n",
       "4            10       1.1   0.421385       SCH  ЧЕЛЯБИНСКАЯ ОБЛАСТЬ   \n",
       "\n",
       "   monthly_income  credit_count  overdue_credit_count  open_account_flg  \n",
       "0           30000             1                     1                 0  \n",
       "1           43000             2                     0                 0  \n",
       "2           23000             5                     0                 0  \n",
       "3           17000             2                     0                 0  \n",
       "4           25000             1                     0                 0  "
      ]
     },
     "execution_count": 5,
     "metadata": {},
     "output_type": "execute_result"
    }
   ],
   "source": [
    "data.head()"
   ]
  },
  {
   "cell_type": "code",
   "execution_count": 113,
   "metadata": {
    "collapsed": false
   },
   "outputs": [
    {
     "data": {
      "text/plain": [
       "1100                              ТАМБОВСКАЯ ОБЛ\n",
       "1101                              ТАТАРСТАН РЕСП\n",
       "1102                           РЕСП БАШКОРТОСТАН\n",
       "1103                            ОРЕНБУРГСКАЯ ОБЛ\n",
       "1104                        РЕСПУБЛИКА ТАТАРСТАН\n",
       "1105                          КРАСНОДАРСКИЙ КРАЙ\n",
       "1106                         ЧЕЛЯБИНСКАЯ ОБЛАСТЬ\n",
       "1107                   РЕСП КАРАЧАЕВО-ЧЕРКЕССКАЯ\n",
       "1108                           ОБЛ ЛЕНИНГРАДСКАЯ\n",
       "1109                              РОСТОВСКАЯ ОБЛ\n",
       "1110                             ОБЛ ВОРОНЕЖСКАЯ\n",
       "1111                         ЯРОСЛАВСКАЯ ОБЛАСТЬ\n",
       "1112                         РЕСП. САХА (ЯКУТИЯ)\n",
       "1113                              ОБЛ МОСКОВСКАЯ\n",
       "1114                           САНКТ-ПЕТЕРБУРГ Г\n",
       "1115                           ИРКУТСКАЯ ОБЛАСТЬ\n",
       "1116                        ОРЕНБУРГСКАЯ ОБЛАСТЬ\n",
       "1117                               САМАРСКАЯ ОБЛ\n",
       "1118                             САРАТОВСКАЯ ОБЛ\n",
       "1119                              ОБЛ МОСКОВСКАЯ\n",
       "1120                           САНКТ-ПЕТЕРБУРГ Г\n",
       "1121                              ОБЛ МОСКОВСКАЯ\n",
       "1122                               ПЕРМСКИЙ КРАЙ\n",
       "1123                               ОБЛ ИРКУТСКАЯ\n",
       "1124                          КРАСНОДАРСКИЙ КРАЙ\n",
       "1125                              ТАТАРСТАН РЕСП\n",
       "1126                              ТАТАРСТАН РЕСП\n",
       "1127                            ОБЛ АСТРАХАНСКАЯ\n",
       "1128                              ТАТАРСТАН РЕСП\n",
       "1129                             УДМУРТСКАЯ РЕСП\n",
       "                          ...                   \n",
       "1170                              ОБЛ МУРМАНСКАЯ\n",
       "1171                            ОБЛ АСТРАХАНСКАЯ\n",
       "1172                              ОБЛ МОСКОВСКАЯ\n",
       "1173                                 ОБЛ КУРСКАЯ\n",
       "1174                           КРАСНОЯРСКИЙ КРАЙ\n",
       "1175                            СВЕРДЛОВСКАЯ ОБЛ\n",
       "1176                               ОБЛ КАЛУЖСКАЯ\n",
       "1177                                РЕСП КАРЕЛИЯ\n",
       "1178    ХАНТЫ-МАНСИЙСКИЙ АВТОНОМНЫЙ ОКРУГ - ЮГРА\n",
       "1179                            ОБЛ АСТРАХАНСКАЯ\n",
       "1180                           РЕСП БАШКОРТОСТАН\n",
       "1181                              ОБЛ МОСКОВСКАЯ\n",
       "1182                                      МОСКВА\n",
       "1183                              МУРМАНСКАЯ ОБЛ\n",
       "1184                               ОБЛ ИРКУТСКАЯ\n",
       "1185                                ОБЛ БРЯНСКАЯ\n",
       "1186                           ЯМАЛО-НЕНЕЦКИЙ АО\n",
       "1187                           КРАСНОЯРСКИЙ КРАЙ\n",
       "1188                           КРАСНОЯРСКИЙ КРАЙ\n",
       "1189                           ОБЛ ЛЕНИНГРАДСКАЯ\n",
       "1190                           ОБЛ НОВОСИБИРСКАЯ\n",
       "1191                         ХАНТЫ-МАНСИЙСКИЙ АО\n",
       "1192                             ЧЕЛЯБИНСКАЯ ОБЛ\n",
       "1193                             ОБЛ ВОЛОГОДСКАЯ\n",
       "1194                           РЕСП БАШКОРТОСТАН\n",
       "1195                             КРАЙ КАМЧАТСКИЙ\n",
       "1196                            СВЕРДЛОВСКАЯ ОБЛ\n",
       "1197                            СВЕРДЛОВСКАЯ ОБЛ\n",
       "1198                         ОБЛ КАЛИНИНГРАДСКАЯ\n",
       "1199                              ТАТАРСТАН РЕСП\n",
       "Name: living_region, dtype: object"
      ]
     },
     "execution_count": 113,
     "metadata": {},
     "output_type": "execute_result"
    }
   ],
   "source": [
    "data['living_region'][1100:1200]"
   ]
  },
  {
   "cell_type": "code",
   "execution_count": 6,
   "metadata": {
    "collapsed": false
   },
   "outputs": [],
   "source": [
    "Categorical_columns = ['gender', 'marital_status', 'job_position',  'education', 'living_region']\n",
    "Numerical_columns = data.columns.drop(Categorical_columns)"
   ]
  },
  {
   "cell_type": "code",
   "execution_count": 7,
   "metadata": {
    "collapsed": true
   },
   "outputs": [],
   "source": [
    "cat_data = data.drop(Numerical_columns, axis = 1)\n",
    "num_data = data.drop(Categorical_columns + ['client_id', 'tariff_id'], axis = 1)"
   ]
  },
  {
   "cell_type": "code",
   "execution_count": 8,
   "metadata": {
    "collapsed": false
   },
   "outputs": [
    {
     "data": {
      "text/plain": [
       "Index([u'age', u'credit_sum', u'credit_month', u'score_shk', u'monthly_income',\n",
       "       u'credit_count', u'overdue_credit_count'],\n",
       "      dtype='object')"
      ]
     },
     "execution_count": 8,
     "metadata": {},
     "output_type": "execute_result"
    }
   ],
   "source": [
    "num_data.columns"
   ]
  },
  {
   "cell_type": "code",
   "execution_count": 9,
   "metadata": {
    "collapsed": false
   },
   "outputs": [
    {
     "name": "stdout",
     "output_type": "stream",
     "text": [
      "Количество NaN:\n"
     ]
    },
    {
     "data": {
      "text/plain": [
       "age                        0\n",
       "credit_sum                 0\n",
       "credit_month               0\n",
       "score_shk                  0\n",
       "monthly_income             1\n",
       "credit_count            9230\n",
       "overdue_credit_count    9230\n",
       "dtype: int64"
      ]
     },
     "execution_count": 9,
     "metadata": {},
     "output_type": "execute_result"
    }
   ],
   "source": [
    "# Количество NaN в числовых признаках\n",
    "print('Количество NaN:')\n",
    "nan_val = num_data.isnull().sum().T\n",
    "nan_val"
   ]
  },
  {
   "cell_type": "code",
   "execution_count": 10,
   "metadata": {
    "collapsed": true
   },
   "outputs": [],
   "source": [
    "def fillNan(data, feature):\n",
    "    data[[feature]] = data[[feature]].fillna(0)\n",
    "    return data"
   ]
  },
  {
   "cell_type": "code",
   "execution_count": 11,
   "metadata": {
    "collapsed": true
   },
   "outputs": [],
   "source": [
    "num_data = fillNan(num_data, 'credit_count')\n",
    "num_data = fillNan(num_data, 'overdue_credit_count')"
   ]
  },
  {
   "cell_type": "code",
   "execution_count": 12,
   "metadata": {
    "collapsed": false
   },
   "outputs": [
    {
     "name": "stdout",
     "output_type": "stream",
     "text": [
      "19639\n"
     ]
    }
   ],
   "source": [
    "income_null = num_data['monthly_income'].isnull()\n",
    "for i in range(170000):\n",
    "    if income_null[i]:\n",
    "        print i\n",
    "        break"
   ]
  },
  {
   "cell_type": "code",
   "execution_count": 24,
   "metadata": {
    "collapsed": false
   },
   "outputs": [
    {
     "data": {
      "text/plain": [
       "array([19640, u'F', u'MAR', u'BIS', u'SCH',\n",
       "       u'\\u041f\\u0420\\u0418\\u041c\\u041e\\u0420\\u0421\\u041a\\u0418\\u0419 \\u041a\\u0420\\u0410\\u0419'], dtype=object)"
      ]
     },
     "execution_count": 24,
     "metadata": {},
     "output_type": "execute_result"
    }
   ],
   "source": [
    "cat_data.values[19639]"
   ]
  },
  {
   "cell_type": "code",
   "execution_count": 21,
   "metadata": {
    "collapsed": false
   },
   "outputs": [],
   "source": [
    "num_data['tariff_id'] = data2['tariff_id']"
   ]
  },
  {
   "cell_type": "code",
   "execution_count": 25,
   "metadata": {
    "collapsed": true
   },
   "outputs": [],
   "source": [
    "size = 170746"
   ]
  },
  {
   "cell_type": "code",
   "execution_count": 39,
   "metadata": {
    "collapsed": true
   },
   "outputs": [],
   "source": [
    "s = 0\n",
    "count = 0\n",
    "for i in range(size):\n",
    "    if cat_data['job_position'][i] == 'BIS' and i != 19639 and cat_data['living_region'][i] == cat_data['living_region'][19639] :\n",
    "        count +=1\n",
    "        s += num_data['monthly_income'][i]"
   ]
  },
  {
   "cell_type": "code",
   "execution_count": 41,
   "metadata": {
    "collapsed": false
   },
   "outputs": [
    {
     "name": "stderr",
     "output_type": "stream",
     "text": [
      "/root/miniconda/envs/rep_py2/lib/python2.7/site-packages/ipykernel/__main__.py:1: SettingWithCopyWarning: \n",
      "A value is trying to be set on a copy of a slice from a DataFrame\n",
      "\n",
      "See the caveats in the documentation: http://pandas.pydata.org/pandas-docs/stable/indexing.html#indexing-view-versus-copy\n",
      "  if __name__ == '__main__':\n"
     ]
    }
   ],
   "source": [
    "num_data['monthly_income'][19639] =  s / count"
   ]
  },
  {
   "cell_type": "code",
   "execution_count": 47,
   "metadata": {
    "collapsed": false
   },
   "outputs": [],
   "source": [
    "living_region = cat_data['living_region'].isnull()\n",
    "ids = []\n",
    "for i in range(size):\n",
    "    if living_region[i]:\n",
    "        ids.append(i)"
   ]
  },
  {
   "cell_type": "code",
   "execution_count": 69,
   "metadata": {
    "collapsed": false
   },
   "outputs": [
    {
     "name": "stderr",
     "output_type": "stream",
     "text": [
      "/root/miniconda/envs/rep_py2/lib/python2.7/site-packages/ipykernel/__main__.py:11: SettingWithCopyWarning: \n",
      "A value is trying to be set on a copy of a slice from a DataFrame\n",
      "\n",
      "See the caveats in the documentation: http://pandas.pydata.org/pandas-docs/stable/indexing.html#indexing-view-versus-copy\n"
     ]
    }
   ],
   "source": [
    "for j in ids:\n",
    "    regions = []\n",
    "    position = cat_data['job_position'][j]\n",
    "    salary = num_data['monthly_income'][j]\n",
    "    age = num_data['age'][j]\n",
    "    for i in range(size):\n",
    "        f = (salary <= num_data['monthly_income'][i] + 20000 and salary >= num_data['monthly_income'][i] - 20000)\n",
    "        if f and (i not in ids) and cat_data['job_position'][i] == position and age >= num_data['age'][i] - 10 and age <= num_data['age'][i] + 10:\n",
    "            regions.append(cat_data['living_region'][i])\n",
    "    counter = Counter(regions)\n",
    "    cat_data['living_region'][j] = counter.most_common(1)[0][0]"
   ]
  },
  {
   "cell_type": "code",
   "execution_count": 92,
   "metadata": {
    "collapsed": true
   },
   "outputs": [],
   "source": [
    "def get_binarized_data(df, categorical_columns):\n",
    "    binary_df = deepcopy(df)\n",
    "    for column in categorical_columns:\n",
    "        binary_df = pd.concat([binary_df, pd.get_dummies(binary_df[column], prefix=column, prefix_sep=': ')], axis=1)\n",
    "        del binary_df[column]\n",
    "    \n",
    "    return binary_df\n",
    "\n",
    "def split_train_test(df, test_size=0.5, random_state=42, y_column_name='y'):\n",
    "    X = np.asarray(df.drop(y_column_name, axis=1))\n",
    "    y = np.asarray(df[y_column_name]).ravel()\n",
    "    trainX, testX, trainY, testY = cross_validation.train_test_split(X, y, test_size=test_size, random_state=42)\n",
    "    return trainX, testX, trainY, testY"
   ]
  },
  {
   "cell_type": "code",
   "execution_count": 83,
   "metadata": {
    "collapsed": false
   },
   "outputs": [],
   "source": [
    "bin_data = get_binarized_data(cat_data, cat_data.columns)\n",
    "\n",
    "for column in num_data.columns:\n",
    "    bin_data[column] = num_data[column]"
   ]
  },
  {
   "cell_type": "code",
   "execution_count": 93,
   "metadata": {
    "collapsed": false
   },
   "outputs": [],
   "source": [
    "trainX, testX, trainY, testY = split_train_test(df = bin_data, test_size=0.1,  y_column_name='open_account_flg')"
   ]
  },
  {
   "cell_type": "code",
   "execution_count": 107,
   "metadata": {
    "collapsed": false,
    "scrolled": true
   },
   "outputs": [
    {
     "name": "stdout",
     "output_type": "stream",
     "text": [
      "0.568205470185\n",
      "0.600321367078\n",
      "0.620963067898\n",
      "0.631747897585\n",
      "0.642223459821\n",
      "0.652810826463\n",
      "0.660167772695\n",
      "0.663961276385\n",
      "0.669672276713\n",
      "0.672279163768\n"
     ]
    }
   ],
   "source": [
    "for i in range(1, 11):\n",
    "    reg = ExtraTreesRegressor(n_estimators=i, random_state=12, verbose=0)\n",
    "    reg.fit(trainX, trainY)\n",
    "    predict = reg.predict(testX)\n",
    "    print roc_auc_score(testY, predict)"
   ]
  },
  {
   "cell_type": "code",
   "execution_count": 115,
   "metadata": {
    "collapsed": false
   },
   "outputs": [
    {
     "name": "stdout",
     "output_type": "stream",
     "text": [
      "0.701214504654\n",
      "0.705820389615\n",
      "0.707152754498\n",
      "0.709131926797\n",
      "0.709740032226\n",
      "0.71004848262\n",
      "0.709857664159\n"
     ]
    }
   ],
   "source": [
    "for i in range(50, 400, 50):\n",
    "    reg = ExtraTreesRegressor(n_estimators=i, n_jobs=-1, random_state=12, verbose=0)\n",
    "    reg.fit(trainX, trainY)\n",
    "    predict = reg.predict(testX)\n",
    "    print roc_auc_score(testY, predict)"
   ]
  },
  {
   "cell_type": "code",
   "execution_count": 114,
   "metadata": {
    "collapsed": false
   },
   "outputs": [
    {
     "name": "stdout",
     "output_type": "stream",
     "text": [
      "0.701214504654\n"
     ]
    }
   ],
   "source": [
    "reg = ExtraTreesRegressor(n_estimators=50, n_jobs=-1, random_state=12, verbose=0)\n",
    "reg.fit(trainX, trainY)\n",
    "predict = reg.predict(testX)\n",
    "print roc_auc_score(testY, predict)"
   ]
  },
  {
   "cell_type": "code",
   "execution_count": null,
   "metadata": {
    "collapsed": true
   },
   "outputs": [],
   "source": []
  },
  {
   "cell_type": "markdown",
   "metadata": {},
   "source": [
    "## Обработка тестовых данных"
   ]
  },
  {
   "cell_type": "code",
   "execution_count": null,
   "metadata": {
    "collapsed": true
   },
   "outputs": [],
   "source": [
    "test = pd.read_csv('./credit_test.csv', sep=';', parse_dates=True, dayfirst=True, encoding='cp1251', decimal = ',')\n",
    "test2 = pd.read_csv('./credit_train.csv', sep=';', parse_dates=True, dayfirst=True, encoding='cp1251')"
   ]
  },
  {
   "cell_type": "code",
   "execution_count": null,
   "metadata": {
    "collapsed": true
   },
   "outputs": [],
   "source": [
    "cat_test = test.drop(Numerical_columns, axis = 1)\n",
    "num_test = test.drop(Categorical_columns + ['client_id', 'tariff_id'], axis = 1)\n",
    "num_test['tariff_id'] = test2['tariff_id']"
   ]
  },
  {
   "cell_type": "code",
   "execution_count": null,
   "metadata": {
    "collapsed": true
   },
   "outputs": [],
   "source": [
    "# Количество NaN в числовых признаках\n",
    "print('Количество NaN:')\n",
    "nan_test = num_test.isnull().sum().T\n",
    "nan_test"
   ]
  },
  {
   "cell_type": "code",
   "execution_count": null,
   "metadata": {
    "collapsed": true
   },
   "outputs": [],
   "source": [
    "# Количество NaN в категориальных признаках\n",
    "print('Количество NaN:')\n",
    "nan_test2 = cat_test.isnull().sum().T\n",
    "nan_test2"
   ]
  }
 ],
 "metadata": {
  "kernelspec": {
   "display_name": "Python 2",
   "language": "python",
   "name": "python2"
  },
  "language_info": {
   "codemirror_mode": {
    "name": "ipython",
    "version": 2
   },
   "file_extension": ".py",
   "mimetype": "text/x-python",
   "name": "python",
   "nbconvert_exporter": "python",
   "pygments_lexer": "ipython2",
   "version": "2.7.6"
  }
 },
 "nbformat": 4,
 "nbformat_minor": 0
}
